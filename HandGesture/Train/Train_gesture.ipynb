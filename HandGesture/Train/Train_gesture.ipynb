{
 "cells": [
  {
   "cell_type": "markdown",
   "metadata": {
    "colab_type": "text",
    "id": "f92-4Hjy7kA8"
   },
   "source": [
    "<a href=\"https://www.arduino.cc/\"><img src=\"https://raw.githubusercontent.com/sandeepmistry/aimldevfest-workshop-2019/master/images/Arduino_logo_R_highquality.png\" width=200/></a>\n",
    "# Tiny ML on Arduino\n",
    "## Gesture recognition tutorial\n",
    "## Original Code from:\n",
    " * Sandeep Mistry - Arduino\n",
    " * Don Coleman - Chariot Solutions\n",
    "\n",
    "https://github.com/arduino/ArduinoTensorFlowLiteTutorials/\n",
    "\n",
    "## Modified by:\n",
    " * Kusuma Wardana\n",
    "\n"
   ]
  },
  {
   "cell_type": "markdown",
   "metadata": {
    "colab_type": "text",
    "id": "uvDA8AK7QOq-"
   },
   "source": [
    "## Seting Lingkungan Python\n",
    "\n",
    "Install beberapa pustaka yang diperlukan. <b>Tensorflow</b> yang digunakan yang digunakan adalah versi 2. <b>Numpy</b> digunakan untuk operasi/pengolahan matriks dan <b>Matplotlib</b> adalah pustaka untuk visualisasi data. Pustaka <b>xxd</b> digunakan untuk mengubah model yang dihasilkan oleh Tensorflow menjadi bentuk matriks heksadesimal yang nantinya akan dipakai dalam pemrograman Arduino"
   ]
  },
  {
   "cell_type": "code",
   "execution_count": null,
   "metadata": {
    "colab": {
     "base_uri": "https://localhost:8080/",
     "height": 887
    },
    "colab_type": "code",
    "id": "Y2gs-PL4xDkZ",
    "outputId": "dd06a883-49a1-4830-a501-ddf64162afb7"
   },
   "outputs": [],
   "source": [
    "# Setup environment\n",
    "!apt-get -qq install xxd\n",
    "!pip install pandas numpy matplotlib\n",
    "!pip install tensorflow==2.0.0-rc1"
   ]
  },
  {
   "cell_type": "code",
   "execution_count": null,
   "metadata": {
    "colab": {
     "base_uri": "https://localhost:8080/",
     "height": 124
    },
    "colab_type": "code",
    "id": "uVvrjNJsM02h",
    "outputId": "aab5b3da-f79e-4b7e-fb4a-095ce1ae907e"
   },
   "outputs": [],
   "source": [
    "from google.colab import drive\n",
    "drive.mount('/content/drive')"
   ]
  },
  {
   "cell_type": "markdown",
   "metadata": {
    "colab_type": "text",
    "id": "9lwkeshJk7dg"
   },
   "source": [
    "# Unggah Data yang Diperlukan\n",
    "\n",
    "1. Klik lambang folder di sisi kiri\n",
    "2. Pilih Upload to Session Storage\n",
    "3. Cari dan pilih 'telungkup.csv' dan 'tengadah.csv'"
   ]
  },
  {
   "cell_type": "markdown",
   "metadata": {
    "colab_type": "text",
    "id": "Eh9yve14gUyD"
   },
   "source": [
    "# Visualisasi Data\n",
    "\n",
    "Data terdiri dari dua jenis input, yaitu data Accelerator and Gyroscope. Masing-masing memiliki Unit dan skala nilai yang berbeda"
   ]
  },
  {
   "cell_type": "markdown",
   "metadata": {
    "colab_type": "text",
    "id": "hFN6SZGGAa3l"
   },
   "source": [
    "### Ploting telungkup.csv"
   ]
  },
  {
   "cell_type": "code",
   "execution_count": null,
   "metadata": {
    "colab": {
     "base_uri": "https://localhost:8080/",
     "height": 901
    },
    "colab_type": "code",
    "id": "I65ukChEgyNp",
    "outputId": "8043ceff-a289-4dbe-bab5-305e2c37adc6"
   },
   "outputs": [],
   "source": [
    "import matplotlib.pyplot as plt\n",
    "import numpy as np\n",
    "import pandas as pd\n",
    "\n",
    "filename = \"telungkup.csv\"\n",
    "\n",
    "df = pd.read_csv(\"/content/\" + filename)\n",
    "\n",
    "index = range(1, len(df['aX']) + 1)\n",
    "\n",
    "plt.rcParams[\"figure.figsize\"] = (20,10)\n",
    "\n",
    "plt.plot(index, df['aX'], 'g.', label='x', linestyle='solid', marker=',')\n",
    "plt.plot(index, df['aY'], 'b.', label='y', linestyle='solid', marker=',')\n",
    "plt.plot(index, df['aZ'], 'r.', label='z', linestyle='solid', marker=',')\n",
    "plt.title(\"Acceleration\")\n",
    "plt.xlabel(\"Sample #\")\n",
    "plt.ylabel(\"Acceleration (G)\")\n",
    "plt.legend()\n",
    "plt.show()\n",
    "\n",
    "plt.plot(index, df['gX'], 'g.', label='x', linestyle='solid', marker=',')\n",
    "plt.plot(index, df['gY'], 'b.', label='y', linestyle='solid', marker=',')\n",
    "plt.plot(index, df['gZ'], 'r.', label='z', linestyle='solid', marker=',')\n",
    "plt.title(\"Gyroscope\")\n",
    "plt.xlabel(\"Sample #\")\n",
    "plt.ylabel(\"Gyroscope (deg/sec)\")\n",
    "plt.legend()\n",
    "plt.show()\n"
   ]
  },
  {
   "cell_type": "markdown",
   "metadata": {
    "colab_type": "text",
    "id": "ILfWFtbgAiqQ"
   },
   "source": [
    "### Ploting tengadah.csv"
   ]
  },
  {
   "cell_type": "code",
   "execution_count": null,
   "metadata": {
    "colab": {
     "base_uri": "https://localhost:8080/",
     "height": 898
    },
    "colab_type": "code",
    "id": "V1g-RMyMAnMM",
    "outputId": "dcdba934-5bec-43a2-c38c-4e671c36db09"
   },
   "outputs": [],
   "source": [
    "filename = \"tengadah.csv\"\n",
    "\n",
    "df = pd.read_csv(\"/content/\" + filename)\n",
    "\n",
    "index = range(1, len(df['aX']) + 1)\n",
    "\n",
    "plt.rcParams[\"figure.figsize\"] = (20,10)\n",
    "\n",
    "plt.plot(index, df['aX'], 'g.', label='x', linestyle='solid', marker=',')\n",
    "plt.plot(index, df['aY'], 'b.', label='y', linestyle='solid', marker=',')\n",
    "plt.plot(index, df['aZ'], 'r.', label='z', linestyle='solid', marker=',')\n",
    "plt.title(\"Acceleration\")\n",
    "plt.xlabel(\"Sample #\")\n",
    "plt.ylabel(\"Acceleration (G)\")\n",
    "plt.legend()\n",
    "plt.show()\n",
    "\n",
    "plt.plot(index, df['gX'], 'g.', label='x', linestyle='solid', marker=',')\n",
    "plt.plot(index, df['gY'], 'b.', label='y', linestyle='solid', marker=',')\n",
    "plt.plot(index, df['gZ'], 'r.', label='z', linestyle='solid', marker=',')\n",
    "plt.title(\"Gyroscope\")\n",
    "plt.xlabel(\"Sample #\")\n",
    "plt.ylabel(\"Gyroscope (deg/sec)\")\n",
    "plt.legend()\n",
    "plt.show()"
   ]
  },
  {
   "cell_type": "markdown",
   "metadata": {
    "colab_type": "text",
    "id": "kSxUeYPNQbOg"
   },
   "source": [
    "# Latih Model Neural Network\n",
    "\n",
    "\n",
    "\n"
   ]
  },
  {
   "cell_type": "markdown",
   "metadata": {
    "colab_type": "text",
    "id": "Gxk414PU3oy3"
   },
   "source": [
    "## Parsing Data dan Lakukan Preprocessing\n",
    "\n",
    "Parsing file csv dan lakukan normalisasi data. Proses normalisasi dalam percobaan ini akan mengubah nilai input menjadi rentang antara 0-1. Model yang akan digunakan adalah Fully Connected Layer (Multilayer Perceptron).\n"
   ]
  },
  {
   "cell_type": "code",
   "execution_count": null,
   "metadata": {
    "colab": {
     "base_uri": "https://localhost:8080/",
     "height": 139
    },
    "colab_type": "code",
    "id": "AGChd1FAk5_j",
    "outputId": "4012e58e-e43d-4e58-890c-c463eedc7d04"
   },
   "outputs": [],
   "source": [
    "import matplotlib.pyplot as plt\n",
    "import numpy as np\n",
    "import pandas as pd\n",
    "import tensorflow as tf\n",
    "\n",
    "print(f\"Versi TensorFlow = {tf.__version__}\\n\")\n",
    "\n",
    "# Set 'seed' untuk Tensorflow dan Numpy, sehingga data random yang dibangkitkan\n",
    "# sama, sehingga setiap orang yang menjalankan program ini akan menghasilkan\n",
    "# output yang sama. \n",
    "\n",
    "SEED = 1337\n",
    "np.random.seed(SEED)\n",
    "tf.random.set_seed(SEED)\n",
    "\n",
    "# Daftar gestur yang terlibat. Gunakan nama yang sama dengan nama file\n",
    "GESTURES = [\n",
    "    \"telungkup\",\n",
    "    \"tengadah\",\n",
    "]\n",
    "\n",
    "SAMPLES_PER_GESTURE = 119  #frekuensi sampling\n",
    "\n",
    "NUM_GESTURES = len(GESTURES)  # saat ini = 2\n",
    "\n",
    "# Buat matriks'one-hot' enkoding untuk keperluan klasifikasi\n",
    "ONE_HOT_ENCODED_GESTURES = np.eye(NUM_GESTURES)\n",
    "\n",
    "inputs = []\n",
    "outputs = []\n",
    "\n",
    "# baca kedua csv file, dan buat input and output untuk model\n",
    "for gesture_index in range(NUM_GESTURES):\n",
    "  gesture = GESTURES[gesture_index]\n",
    "  print(f\"Processing index {gesture_index} untuk gesture '{gesture}'.\")\n",
    "  \n",
    "  output = ONE_HOT_ENCODED_GESTURES[gesture_index]\n",
    "  \n",
    "  df = pd.read_csv(\"/content/\" + gesture + \".csv\")\n",
    "  \n",
    "  # Jumlah input adalah total data dibagi 119 = 100 \n",
    "  num_recordings = int(df.shape[0] / SAMPLES_PER_GESTURE)\n",
    "  \n",
    "  print(f\"\\tTerdapat {num_recordings} data terekam untuk {gesture}.\")\n",
    "  \n",
    "  for i in range(num_recordings):\n",
    "    tensor = []\n",
    "    for j in range(SAMPLES_PER_GESTURE):\n",
    "      index = i * SAMPLES_PER_GESTURE + j\n",
    "      # normalisasi input menjadi rentang 0 - 1\n",
    "      # - Nilai accelerator antara: -4 to +4\n",
    "      # - Nilai gyroscope antara: -2000 to +2000\n",
    "      tensor += [\n",
    "          (df['aX'][index] + 4) / 8,\n",
    "          (df['aY'][index] + 4) / 8,\n",
    "          (df['aZ'][index] + 4) / 8,\n",
    "          (df['gX'][index] + 2000) / 4000,\n",
    "          (df['gY'][index] + 2000) / 4000,\n",
    "          (df['gZ'][index] + 2000) / 4000\n",
    "      ]\n",
    "\n",
    "    inputs.append(tensor)\n",
    "    outputs.append(output)\n",
    "\n",
    "# Konversi ke numpy array\n",
    "inputs = np.array(inputs)\n",
    "outputs = np.array(outputs)\n",
    "\n",
    "print(\"Persiapan dan Parsing Data Selesai!\")"
   ]
  },
  {
   "cell_type": "markdown",
   "metadata": {
    "colab_type": "text",
    "id": "d5_61831d5AM"
   },
   "source": [
    "## Acak data dan bagi pasangan input-output untuk dilatih\n",
    "\n",
    "Secara random, bagi pasangan data input-output sebagai berikut:\n",
    "  - 60% untuk data latih (training data)\n",
    "  - 20% untuk data validasi (validation data)\n",
    "  - 20% untuk data uji (testing data)\n",
    "\n",
    "**Training data** digunakan untuk melatih model. **Validation data** digunakan untuk mengukur seberapa bagus model kita terbentuk selama proses training, dana **testing data** digunakan untuk menguji performa model setelah proses training selesai dilakukan."
   ]
  },
  {
   "cell_type": "code",
   "execution_count": null,
   "metadata": {
    "colab": {
     "base_uri": "https://localhost:8080/",
     "height": 35
    },
    "colab_type": "code",
    "id": "QfNEmUZMeIEx",
    "outputId": "a5d8af7c-b8b3-4651-ed29-b8aa2a9753b3"
   },
   "outputs": [],
   "source": [
    "#Acak data input sehingga terdapat distribusi untuk training, testing, dan validasi\n",
    "# https://stackoverflow.com/a/37710486/2020087\n",
    "num_inputs = len(inputs)\n",
    "randomize = np.arange(num_inputs)\n",
    "np.random.shuffle(randomize)\n",
    "\n",
    "# masukkan ke matriks sesuai dengan indeks\n",
    "inputs = inputs[randomize]\n",
    "outputs = outputs[randomize]\n",
    "\n",
    "# Pecah menjadi: training, testing & validation\n",
    "TRAIN_SPLIT = int(0.6 * num_inputs)\n",
    "TEST_SPLIT = int(0.2 * num_inputs + TRAIN_SPLIT)\n",
    "\n",
    "inputs_train, inputs_test, inputs_validate = np.split(inputs, [TRAIN_SPLIT, TEST_SPLIT])\n",
    "outputs_train, outputs_test, outputs_validate = np.split(outputs, [TRAIN_SPLIT, TEST_SPLIT])\n",
    "\n",
    "print(\"Data set randomization and splitting complete.\")"
   ]
  },
  {
   "cell_type": "markdown",
   "metadata": {
    "colab_type": "text",
    "id": "a9g2n41p24nR"
   },
   "source": [
    "## Buat dan Latih Model\n",
    "\n",
    "Buat dan latih [TensorFlow](https://www.tensorflow.org) model menggunakan high-level [Keras](https://www.tensorflow.org/guide/keras) API.\n",
    "\n",
    "Model terdiri dari 2-layer tersembunyi. Layer-1 berisikan 50 neuron, sedangkan layer-2 berisi 15 neuron. Layer output terdiri dari 2 neuron, masing-masing untuk setiap gestur.\n",
    "\n",
    "Fungsi aktivasi 'relu' digunakan pada layer tersembunyi, sedangkan 'softmax' pada layer output. Gunakan 'rmsprop' sebagai optimizer, dan 'mse' sebagai loss function. Lakukan training sebanyak 600 eppoch."
   ]
  },
  {
   "cell_type": "code",
   "execution_count": null,
   "metadata": {
    "colab": {
     "base_uri": "https://localhost:8080/",
     "height": 1000
    },
    "colab_type": "code",
    "id": "kGNFa-lX24Qo",
    "outputId": "dade6a89-9637-4f33-b425-b61a5e6307d1"
   },
   "outputs": [],
   "source": [
    "# Gunakan Fully Connected Layer\n",
    "model = tf.keras.Sequential()\n",
    "model.add(tf.keras.layers.Dense(50, activation='relu')) \n",
    "model.add(tf.keras.layers.Dense(15, activation='relu'))\n",
    "model.add(tf.keras.layers.Dense(NUM_GESTURES, activation='softmax'))\n",
    "model.compile(optimizer='rmsprop', loss='mse', metrics=['mae'])\n",
    "history = model.fit(inputs_train, outputs_train, epochs=600, batch_size=1, validation_data=(inputs_validate, outputs_validate))\n",
    "\n"
   ]
  },
  {
   "cell_type": "markdown",
   "metadata": {
    "colab_type": "text",
    "id": "NUDPvaJE1wRE"
   },
   "source": [
    "## Lakukan Verifikasi \n",
    "\n",
    "Ploting performa model saat training vs saat validasi.\n",
    "\n"
   ]
  },
  {
   "cell_type": "markdown",
   "metadata": {
    "colab_type": "text",
    "id": "kxA0zCOaS35v"
   },
   "source": [
    "### Plot nilai loss\n",
    "\n",
    "Buat grafik untuk mengetahui nilai loss"
   ]
  },
  {
   "cell_type": "code",
   "execution_count": null,
   "metadata": {
    "colab": {
     "base_uri": "https://localhost:8080/",
     "height": 475
    },
    "colab_type": "code",
    "id": "bvFNHXoQzmcM",
    "outputId": "2238c3ce-c524-4aeb-bc99-70c6602983c6"
   },
   "outputs": [],
   "source": [
    "# Perbesar jendela untuk ploting. Ukuran default adalah (6,4).\n",
    "plt.rcParams[\"figure.figsize\"] = (20,10)\n",
    "\n",
    "# Tampilkan nilai loss. Gunakan \"mean squared error\" sebagai loss function\n",
    "loss = history.history['loss']\n",
    "val_loss = history.history['val_loss']\n",
    "epochs = range(1, len(loss) + 1)\n",
    "plt.plot(epochs, loss, 'g.', label='Training loss')\n",
    "plt.plot(epochs, val_loss, 'b', label='Validation loss')\n",
    "plt.title('Training and validation loss')\n",
    "plt.xlabel('Epochs')\n",
    "plt.ylabel('Loss')\n",
    "plt.legend()\n",
    "plt.show()\n",
    "\n",
    "print(plt.rcParams[\"figure.figsize\"])"
   ]
  },
  {
   "cell_type": "markdown",
   "metadata": {
    "colab_type": "text",
    "id": "DG3m-VpE1zOd"
   },
   "source": [
    "### Zoom Lebih Dekat\n",
    "\n",
    "Perbesar bagian akhir proses training dengan melakukan proting dari epoch ke-200 sampai dengan epoch terakhir (ke-600)"
   ]
  },
  {
   "cell_type": "code",
   "execution_count": null,
   "metadata": {
    "colab": {
     "base_uri": "https://localhost:8080/",
     "height": 465
    },
    "colab_type": "code",
    "id": "c3xT7ue2zovd",
    "outputId": "64874867-85e5-4511-a7bc-623891081550"
   },
   "outputs": [],
   "source": [
    "# Mulai dari epoch ke-200\n",
    "SKIP = 200\n",
    "plt.plot(epochs[SKIP:], loss[SKIP:], 'g.', label='Training loss')\n",
    "plt.plot(epochs[SKIP:], val_loss[SKIP:], 'b.', label='Validation loss')\n",
    "plt.title('Training and validation loss')\n",
    "plt.xlabel('Epochs')\n",
    "plt.ylabel('Loss')\n",
    "plt.legend()\n",
    "plt.show()"
   ]
  },
  {
   "cell_type": "markdown",
   "metadata": {
    "colab_type": "text",
    "id": "CRjvkFQy2RgS"
   },
   "source": [
    "### Ploting Mean Absolute Error (MAE)\n",
    "\n",
    "Performa dari model dapat diukur, salah satunya dengan menggunakan [Mean absolute error](https://en.wikipedia.org/wiki/Mean_absolute_error).\n",
    "\n"
   ]
  },
  {
   "cell_type": "code",
   "execution_count": null,
   "metadata": {
    "colab": {
     "base_uri": "https://localhost:8080/",
     "height": 458
    },
    "colab_type": "code",
    "id": "mBjCf1-2zx9C",
    "outputId": "c603313f-c9a8-46cc-b042-edd15c02ca65"
   },
   "outputs": [],
   "source": [
    "# Plot MAE\n",
    "mae = history.history['mae']\n",
    "val_mae = history.history['val_mae']\n",
    "plt.plot(epochs[SKIP:], mae[SKIP:], 'g.', label='Training MAE')\n",
    "plt.plot(epochs[SKIP:], val_mae[SKIP:], 'b.', label='Validation MAE')\n",
    "plt.title('Mean Absolute Error daru Proses Training & Validasi')\n",
    "plt.xlabel('Epochs')\n",
    "plt.ylabel('MAE')\n",
    "plt.legend()\n",
    "plt.show()\n"
   ]
  },
  {
   "cell_type": "markdown",
   "metadata": {
    "colab_type": "text",
    "id": "guMjtfa42ahM"
   },
   "source": [
    "### Lakukan Prediksi terhadap Test Data\n",
    "Lakukan prediksi terhadap data yang belum pernah diketahui oleh model (test data) untuk melihat seberapa bagus model kita melakukan klasifikasi terhadap data baru.\n"
   ]
  },
  {
   "cell_type": "code",
   "execution_count": null,
   "metadata": {
    "colab": {
     "base_uri": "https://localhost:8080/",
     "height": 1000
    },
    "colab_type": "code",
    "id": "V3Y0CCWJz2EK",
    "outputId": "1dc498bc-65d2-4a21-9c18-f0cdc40f5893"
   },
   "outputs": [],
   "source": [
    "# Gunakan model untuk melakukan prediksi terhadap data testing\n",
    "predictions = model.predict(inputs_test)\n",
    "\n",
    "# Tampilkan hasil dan nilai yang diharapkan (aktual)\n",
    "print(\"predictions =\\n\", np.around(predictions, decimals=3))\n",
    "print(\"actual =\\n\", outputs_test)\n",
    "\n",
    "# Plot nilai prediksi dan nilai aktual\n",
    "plt.clf()\n",
    "plt.title('Training data predicted vs actual values')\n",
    "plt.plot(inputs_test, outputs_test, 'b.', label='Actual')\n",
    "plt.plot(inputs_test, predictions, 'r.', label='Predicted')\n",
    "plt.show()"
   ]
  },
  {
   "cell_type": "markdown",
   "metadata": {
    "colab_type": "text",
    "id": "j7DO6xxXVCym"
   },
   "source": [
    "# Konversi Model TensorFlow ke TensorFlow Lite\n",
    "\n",
    "Untuk mengoptimasi ukuran model, langkah selanjutnya adalah melakukan konversi dari model TensorFlow ke TensorFlo Lite (TFLite model). \n",
    "\n",
    "Ukuran akhir dari TFLite model ditampilkan di layar, setelah proses konversi ini selesai dijalankan."
   ]
  },
  {
   "cell_type": "code",
   "execution_count": null,
   "metadata": {
    "colab": {
     "base_uri": "https://localhost:8080/",
     "height": 89
    },
    "colab_type": "code",
    "id": "0Xn1-Rn9Cp_8",
    "outputId": "e1282104-6984-4ccd-b3e6-ee02be8f61e8"
   },
   "outputs": [],
   "source": [
    "# Tanpa melakukan proses kuantisasi, ubah model menjadi TFLite model\n",
    "converter = tf.lite.TFLiteConverter.from_keras_model(model)\n",
    "tflite_model = converter.convert()\n",
    "\n",
    "# Simpan model ke drive, kemudia hasilnya dapat diunduh\n",
    "open(\"gesture_model.tflite\", \"wb\").write(tflite_model)\n",
    "  \n",
    "import os\n",
    "basic_model_size = os.path.getsize(\"gesture_model.tflite\")\n",
    "print(\"Model is %d bytes\" % basic_model_size)\n",
    "  \n",
    "  "
   ]
  },
  {
   "cell_type": "markdown",
   "metadata": {
    "colab_type": "text",
    "id": "ykccQn7SXrUX"
   },
   "source": [
    "## Konversi Model TFLite menjadi File Header Arduino\n",
    "\n",
    "Langkah berikutnya adalah mengubah model yang dihasilkan oleh Tensorflow (TFlite model) menjadi format yang dapat dimengerti oleh mikrokontroler. Format yang dihasilkan adalah byte array, dengan format heksadesimal."
   ]
  },
  {
   "cell_type": "markdown",
   "metadata": {
    "colab_type": "text",
    "id": "PRxs2JPuKHAu"
   },
   "source": [
    "Setelah selesai menjalankan script di bawah ini, maka akan dihasilkan file dengan nama **model.h** di sisi sebelah kiri dari layar ini (File Panel), satu lokasi dengan telungkup.csv dan tengadah.csv. Double-click file tersebut dan simpanlah di komputer kita."
   ]
  },
  {
   "cell_type": "code",
   "execution_count": null,
   "metadata": {
    "colab": {
     "base_uri": "https://localhost:8080/",
     "height": 69
    },
    "colab_type": "code",
    "id": "9J33uwpNtAku",
    "outputId": "70ed3aec-1b28-4077-9ed7-8ff6f0ba02f2"
   },
   "outputs": [],
   "source": [
    "!echo \"const unsigned char model[] = {\" > /content/model.h\n",
    "!cat gesture_model.tflite | xxd -i      >> /content/model.h\n",
    "!echo \"};\"                              >> /content/model.h\n",
    "\n",
    "import os\n",
    "model_h_size = os.path.getsize(\"model.h\")\n",
    "print(f\"Header file, model.h, is {model_h_size:,} bytes.\")\n",
    "print(\"\\nOpen the side panel (refresh if needed). Double click model.h to download the file.\")"
   ]
  },
  {
   "cell_type": "markdown",
   "metadata": {
    "colab_type": "text",
    "id": "1eSkHZaLzMId"
   },
   "source": [
    "# Klasifikasi\n",
    "\n",
    "Setelah mendapatkan model.h, maka tambahkan file model.h tersebut ke script Arduino untuk melakukan klasifikasi.\n"
   ]
  },
  {
   "cell_type": "code",
   "execution_count": null,
   "metadata": {
    "colab": {},
    "colab_type": "code",
    "id": "RttlOWWkKE1K"
   },
   "outputs": [],
   "source": []
  }
 ],
 "metadata": {
  "colab": {
   "collapsed_sections": [],
   "name": "Webinar_HAR.ipynb",
   "provenance": []
  },
  "kernelspec": {
   "display_name": "Python 3",
   "language": "python",
   "name": "python3"
  },
  "language_info": {
   "codemirror_mode": {
    "name": "ipython",
    "version": 3
   },
   "file_extension": ".py",
   "mimetype": "text/x-python",
   "name": "python",
   "nbconvert_exporter": "python",
   "pygments_lexer": "ipython3",
   "version": "3.7.6"
  }
 },
 "nbformat": 4,
 "nbformat_minor": 1
}
